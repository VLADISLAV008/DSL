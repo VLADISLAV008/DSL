{
  "nbformat": 4,
  "nbformat_minor": 0,
  "metadata": {
    "colab": {
      "name": "Job#3.ipynb",
      "provenance": [],
      "collapsed_sections": [],
      "authorship_tag": "ABX9TyOZVUsFgS6C+n8CpwUvEHd3",
      "include_colab_link": true
    },
    "kernelspec": {
      "name": "python3",
      "display_name": "Python 3"
    },
    "language_info": {
      "name": "python"
    }
  },
  "cells": [
    {
      "cell_type": "markdown",
      "metadata": {
        "id": "view-in-github",
        "colab_type": "text"
      },
      "source": [
        "<a href=\"https://colab.research.google.com/github/VLADISLAV008/DSL/blob/main/Job3/Job%233.ipynb\" target=\"_parent\"><img src=\"https://colab.research.google.com/assets/colab-badge.svg\" alt=\"Open In Colab\"/></a>"
      ]
    },
    {
      "cell_type": "markdown",
      "metadata": {
        "id": "KLZSHq7ln3qu"
      },
      "source": [
        "## Implementation of FIRST and FOLLOW functions"
      ]
    },
    {
      "cell_type": "markdown",
      "metadata": {
        "id": "G4ei1ejrq16G"
      },
      "source": [
        "We are given a context free grammar $G(\\Sigma, N, S \\in N, P)$\n",
        "\n",
        "We assume that in our grammar there is no useless nonterminal symbols and left recurtion!"
      ]
    },
    {
      "cell_type": "markdown",
      "metadata": {
        "id": "Y1O9mZr0mfA-"
      },
      "source": [
        "To start with, we will use the following context free grammar structure:\n",
        "```\n",
        "{'toks': set(token), 'vars': dict(var: definition), 'hvar': var}\n",
        "token: (class, value)\n",
        "class: int\n",
        "value: str\n",
        "var: str                 # name of the non-terminal symbol\n",
        "definition: list(rule)\n",
        "rule: list(var | token)  # right part of the rule\n",
        "```"
      ]
    },
    {
      "cell_type": "markdown",
      "metadata": {
        "id": "miGRonh9euUr"
      },
      "source": [
        "Let's implement a method that returns all nullable (vanishing) symbols.\n",
        "\n",
        "A nonterminal symbol $X$ is called nullable, if $X \\twoheadrightarrow e$.\n",
        "\n",
        "We will expand the set of nullable symbols as it grows.\n",
        "\n",
        "$V_0 = \\emptyset$\n",
        "\n",
        "$V_1 = \\{X \\in N | \\space (X \\to e) \\in P\\}$\n",
        "$V_2 = \\{X \\in N | \\space \\exists k \\in \\mathbb{N} \\space \\exists B_1, B_2, ..., B_k \\in V_1, (X \\to B_1 B_2 ... B_k) \\in P\\}$\n",
        "\n",
        "...\n",
        "\n",
        "$V_{n+1} = \\{X \\in N | \\space \\exists k \\in \\mathbb{N} \\space \\exists B_1, B_2, ..., B_k \\in V_n, (X \\to B_1 B_2 ... B_k) \\in P\\}$\n",
        "\n",
        "$V_n = V_{n+1} \\supset N$ - the desired set of nullable symbols."
      ]
    },
    {
      "cell_type": "code",
      "metadata": {
        "id": "7GH0-FjOevup"
      },
      "source": [
        "def nullable_symbols(grammar) -> set:\n",
        "  nullable = set()\n",
        "  prev_count = None\n",
        "\n",
        "  def all_nullable_symbols(rule: str) -> bool:\n",
        "    return all(map(lambda s: s in nullable or s == (0, ''), rule))\n",
        "\n",
        "  while len(nullable) != prev_count:\n",
        "    prev_count = len(nullable)\n",
        "    nullable_symbols = [var for var, definition in grammar['vars'].items() \n",
        "                        if list(filter(all_nullable_symbols, definition)) != []]\n",
        "    nullable = nullable.union(set(nullable_symbols))\n",
        "\n",
        "  return nullable  "
      ],
      "execution_count": 1,
      "outputs": []
    },
    {
      "cell_type": "markdown",
      "metadata": {
        "id": "itYH5RZjuHDJ"
      },
      "source": [
        "### **Definition**\n",
        "\n",
        "$ \\forall A \\in N: FIRST(A) = a \\in 𝛴 ∣ A ↠ aα$. \n",
        "\n",
        "If $A$ is the nullable nonterminal symbol, then the end of input $⊳$ is added to $FIRST(A)$.\n"
      ]
    },
    {
      "cell_type": "code",
      "metadata": {
        "id": "_bD359l1Zsjy"
      },
      "source": [
        "def first(grammar, nonterminal: str) -> set:\n",
        "  toks = set()\n",
        "  if nonterminal in nullable_symbols(grammar):\n",
        "    toks.add((0, ''))\n",
        "\n",
        "  for rule in grammar['vars'][nonterminal]:\n",
        "    i = 0\n",
        "    while i < len(rule) and rule[i] in nullable_symbols(grammar):\n",
        "      toks.update(first(grammar, rule[i]))\n",
        "      i += 1\n",
        "    if i < len(rule):\n",
        "      if rule[i] in grammar['toks']:\n",
        "        toks.add(rule[i])\n",
        "      else:  \n",
        "        toks.update(first(grammar, rule[i]))\n",
        "    \n",
        "  return toks"
      ],
      "execution_count": 25,
      "outputs": []
    },
    {
      "cell_type": "markdown",
      "metadata": {
        "id": "eTHYoHvcZU_j"
      },
      "source": [
        "### **Definition**\n",
        "\n",
        "$ \\forall A \\in N: FOLLOW(A) = a \\in 𝛴 ∣ S↠𝛼Aa𝛽$. \n",
        "\n",
        "If $S↠𝛼A$, then the end of input $⊳$ is added to $FOLLOW(A)$."
      ]
    },
    {
      "cell_type": "code",
      "metadata": {
        "id": "a5ajfmnsu1tH"
      },
      "source": [
        "def remove_end_of_input(s: set) -> set:\n",
        "  s.discard((0, ''))\n",
        "  return s\n",
        "\n",
        "def follow(grammar, nonterminal: str) -> set:\n",
        "  toks = set()\n",
        "\n",
        "  for s, rules in grammar['vars'].items():\n",
        "    for rule in rules:\n",
        "      indexes = [i for i,x in enumerate(rule) if x == nonterminal]\n",
        "      for i in indexes:\n",
        "        j = i + 1\n",
        "        while j < len(rule) and rule[j] in nullable_symbols(grammar):\n",
        "          toks.update(remove_end_of_input(first(grammar, rule[j])))\n",
        "          j += 1\n",
        "\n",
        "        if j < len(rule):\n",
        "          if rule[j] in grammar['toks']:\n",
        "            toks.add(rule[j])\n",
        "          else:  \n",
        "            toks.update(remove_end_of_input(first(grammar, rule[j])))\n",
        "        else:\n",
        "          toks.add((0, ''))\n",
        "          if s != nonterminal:\n",
        "            toks.update(follow(grammar, s))\n",
        "\n",
        "  return toks"
      ],
      "execution_count": 41,
      "outputs": []
    },
    {
      "cell_type": "code",
      "metadata": {
        "id": "nopb8qtAJAbD"
      },
      "source": [
        "def test():\n",
        "  \"\"\"\n",
        "    S  -> TS'\n",
        "    S' -> +TS' ∣ e\n",
        "    T  -> FT'\n",
        "    T' -> *FT' ∣ e\n",
        "    F  -> v ∣ n ∣ (S)\n",
        "\n",
        "    FIRST(S) = FIRST(T) = FIRST(F) = {v,n,(}\n",
        "    FIRST(S') = {+,⊳}\n",
        "    FIRST(T') = {*,⊳}\n",
        "\n",
        "    FOLLOW(S) = {)}\n",
        "    FOLLOW(S') = {),⊳}\n",
        "    FOLLOW(T) = FOLLOW(T') = {+,),⊳}\n",
        "    FOLLOW(F) = {*,+,),⊳}\n",
        "  \"\"\"\n",
        "  grammar = {\n",
        "      'toks': {(0, ''), (1, '+'), (2, '*'), (3, 'v'), (4, 'n'), (5, '('), (6, ')')},\n",
        "      'vars': {\n",
        "          'S': [['T', \"S'\"]], \n",
        "          \"S'\": [[(1, '+'), 'T', \"S'\"], \n",
        "                 [(0, '')]], \n",
        "          'T': [['F', \"T'\"]],\n",
        "          \"T'\": [[(2, '*'), 'F', \"T'\"],\n",
        "                 [(0, '')]],\n",
        "          'F': [[(3, 'v')],\n",
        "                [(4, 'n')],\n",
        "                [(5, '('), 'S', (6, ')')]]\n",
        "          },\n",
        "      'hvar': 'S'\n",
        "      }\n",
        "\n",
        "  assert(first(grammar, 'S') == {(3, 'v'), (4, 'n'), (5, '(')})\n",
        "  assert(first(grammar, 'T') == first(grammar, 'S'))\n",
        "  assert(first(grammar, 'F') == first(grammar, 'S'))\n",
        "  assert(first(grammar, \"S'\") == {(1, '+'), (0, '')})\n",
        "  assert(first(grammar, \"T'\") == {(2, '*'), (0, '')})\n",
        "\n",
        "  assert(follow(grammar, 'S') == {(6, ')')})\n",
        "  assert(follow(grammar, \"S'\") == {(6, ')'), (0, '')})\n",
        "  assert(follow(grammar, 'T') ==  {(1, '+'), (6, ')'), (0, '')})\n",
        "  assert(follow(grammar, 'T') == follow(grammar, \"T'\"))\n",
        "  assert(follow(grammar, \"F\") == {(1, '+'), (2, '*'), (6, ')'), (0, '')})\n",
        "\n",
        "test()  "
      ],
      "execution_count": 46,
      "outputs": []
    }
  ]
}