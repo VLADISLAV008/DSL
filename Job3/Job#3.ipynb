{
  "nbformat": 4,
  "nbformat_minor": 0,
  "metadata": {
    "colab": {
      "name": "Job#2.ipynb",
      "provenance": [],
      "collapsed_sections": [],
      "authorship_tag": "ABX9TyMEz9pRaKMEoBo7Eltmw9W/",
      "include_colab_link": true
    },
    "kernelspec": {
      "name": "python3",
      "display_name": "Python 3"
    },
    "language_info": {
      "name": "python"
    }
  },
  "cells": [
    {
      "cell_type": "markdown",
      "metadata": {
        "id": "view-in-github",
        "colab_type": "text"
      },
      "source": [
        "<a href=\"https://colab.research.google.com/github/VLADISLAV008/DSL/blob/main/Job3/Job%233.ipynb\" target=\"_parent\"><img src=\"https://colab.research.google.com/assets/colab-badge.svg\" alt=\"Open In Colab\"/></a>"
      ]
    },
    {
      "cell_type": "markdown",
      "metadata": {
        "id": "KLZSHq7ln3qu"
      },
      "source": [
        "## Implementation of methods FIRST and Follow"
      ]
    },
    {
      "cell_type": "markdown",
      "metadata": {
        "id": "G4ei1ejrq16G"
      },
      "source": [
        "We are given a context free grammar $G(\\Sigma, N, S \\in N, P)$\n",
        "\n",
        "Our task is to remove all useless non-terminal symbols, and to identify nullable (vanishing) non-terminal symbols. "
      ]
    },
    {
      "cell_type": "markdown",
      "metadata": {
        "id": "Y1O9mZr0mfA-"
      },
      "source": [
        "To start with, we will use the following context free grammar structure:\n",
        "```\n",
        "{'toks': set(token), 'vars': dict(var: definition), 'hvar': var}\n",
        "token: (class, value)\n",
        "class: int\n",
        "value: str\n",
        "var: str                 # name of the non-terminal symbol\n",
        "definition: list(rule)\n",
        "rule: list(var | token)  # right part of the rule\n",
        "```"
      ]
    },
    {
      "cell_type": "markdown",
      "metadata": {
        "id": "itYH5RZjuHDJ"
      },
      "source": [
        "Let's implement a method that returns all productive (generating) symbols.\n",
        "\n",
        "A nonterminal symbol $X$ is called productive, if $\\forall \\alpha, \\beta \\in (\\Sigma \\cup N)^* \\space \\exists u \\in \\Sigma : (\\alpha X \\beta) \\twoheadrightarrow u$\n",
        "\n",
        "We will expand the set of productive symbols as it grows.\n",
        "\n",
        "$E_0 = \\emptyset$\n",
        "\n",
        "$E_1 = \\{X \\in N | \\space \\exists u \\in \\Sigma^* , (X \\to u) \\in P\\}$\n",
        "$E_2 = \\{X \\in N | \\space \\exists k \\in \\mathbb{N} \\space \\exists \\alpha_1, \\alpha_1, ..., \\alpha_k \\in (\\Sigma \\cup E_1), (X \\to \\alpha_1\\alpha_1...\\alpha_k) \\in P\\}$\n",
        "\n",
        "...\n",
        "\n",
        "$E_{n+1} = \\{X \\in N | \\space \\exists k \\in \\mathbb{N} \\space \\exists \\alpha_1, \\alpha_1, ..., \\alpha_k \\in (\\Sigma \\cup E_{n}), (X \\to \\alpha_1\\alpha_1...\\alpha_k) \\in P\\}$\n",
        "\n",
        "$E_n = E_{n+1} \\supset N$ - the desired set of productive symbols.\n",
        "$N - E_n$ - the desired set of unproductive symbols."
      ]
    },
    {
      "cell_type": "code",
      "metadata": {
        "colab": {
          "base_uri": "https://localhost:8080/"
        },
        "id": "nopb8qtAJAbD",
        "outputId": "d712df30-2351-4fc9-c3b4-5206fe2f2c52"
      },
      "source": [
        "def test():\n",
        "  grammar = {\n",
        "      'toks': {(0, ''), (1, 'a'), (2, 'b'), (3, 'c')},\n",
        "      'vars': {\n",
        "          'S': [[(1, 'a'), 'M'],\n",
        "                [(1, 'a'), 'S'],\n",
        "                ['K']], \n",
        "          'K': [[(3, 'c')], \n",
        "                [(0, '')]], \n",
        "          'M': [['M', 'P']],\n",
        "          'P': [[(3, 'c')]]\n",
        "          },\n",
        "      'hvar': 'S'\n",
        "      }\n",
        "\n",
        "  grammar = remove_useless_symbols(grammar)\n",
        "  print(grammar)\n",
        "\n",
        "  print('Nullable symbols are ' + str(nullable_symbols(grammar)))\n",
        "\n",
        "test()  "
      ],
      "execution_count": null,
      "outputs": [
        {
          "output_type": "stream",
          "name": "stdout",
          "text": [
            "{'toks': {(1, 'a'), (3, 'c'), (0, ''), (2, 'b')}, 'vars': {'S': [[(1, 'a'), 'S'], ['K']], 'K': [[(3, 'c')], [(0, '')]]}, 'hvar': 'S'}\n",
            "Nullable symbols are {'S', 'K'}\n"
          ]
        }
      ]
    }
  ]
}