{
  "nbformat": 4,
  "nbformat_minor": 0,
  "metadata": {
    "colab": {
      "name": "Job#3.ipynb",
      "provenance": [],
      "collapsed_sections": [],
      "authorship_tag": "ABX9TyNchjh4KL1LhUuQBNatUtKU",
      "include_colab_link": true
    },
    "kernelspec": {
      "name": "python3",
      "display_name": "Python 3"
    },
    "language_info": {
      "name": "python"
    }
  },
  "cells": [
    {
      "cell_type": "markdown",
      "metadata": {
        "id": "view-in-github",
        "colab_type": "text"
      },
      "source": [
        "<a href=\"https://colab.research.google.com/github/VLADISLAV008/DSL/blob/main/Job3/Job%233.ipynb\" target=\"_parent\"><img src=\"https://colab.research.google.com/assets/colab-badge.svg\" alt=\"Open In Colab\"/></a>"
      ]
    },
    {
      "cell_type": "markdown",
      "metadata": {
        "id": "KLZSHq7ln3qu"
      },
      "source": [
        "## Implementation of FIRST and FOLLOW functions"
      ]
    },
    {
      "cell_type": "markdown",
      "metadata": {
        "id": "G4ei1ejrq16G"
      },
      "source": [
        "We are given a context free grammar $G(\\Sigma, N, S \\in N, P)$\n",
        "\n",
        "We assume that in our grammar there is no useless nonterminal symbols and left recurtion!"
      ]
    },
    {
      "cell_type": "markdown",
      "metadata": {
        "id": "Y1O9mZr0mfA-"
      },
      "source": [
        "To start with, we will use the following context free grammar structure:\n",
        "```\n",
        "{'toks': set(token), 'vars': dict(var: definition), 'hvar': var}\n",
        "token: (class, value)\n",
        "class: int\n",
        "value: str\n",
        "var: str                 # name of the non-terminal symbol\n",
        "definition: list(rule)\n",
        "rule: list(var | token)  # right part of the rule\n",
        "```"
      ]
    },
    {
      "cell_type": "markdown",
      "metadata": {
        "id": "miGRonh9euUr"
      },
      "source": [
        "Let's implement a method that returns all nullable (vanishing) symbols.\n",
        "\n",
        "A nonterminal symbol $X$ is called nullable, if $X \\twoheadrightarrow e$.\n",
        "\n",
        "We will expand the set of nullable symbols as it grows.\n",
        "\n",
        "$V_0 = \\emptyset$\n",
        "\n",
        "$V_1 = \\{X \\in N | \\space (X \\to e) \\in P\\}$\n",
        "$V_2 = \\{X \\in N | \\space \\exists k \\in \\mathbb{N} \\space \\exists B_1, B_2, ..., B_k \\in V_1, (X \\to B_1 B_2 ... B_k) \\in P\\}$\n",
        "\n",
        "...\n",
        "\n",
        "$V_{n+1} = \\{X \\in N | \\space \\exists k \\in \\mathbb{N} \\space \\exists B_1, B_2, ..., B_k \\in V_n, (X \\to B_1 B_2 ... B_k) \\in P\\}$\n",
        "\n",
        "$V_n = V_{n+1} \\supset N$ - the desired set of nullable symbols."
      ]
    },
    {
      "cell_type": "code",
      "metadata": {
        "id": "7GH0-FjOevup"
      },
      "source": [
        "def nullable_symbols(grammar) -> set:\n",
        "  nullable = set()\n",
        "  prev_count = None\n",
        "\n",
        "  def all_nullable_symbols(rule: str) -> bool:\n",
        "    return all(map(lambda s: s in nullable or s == (0, ''), rule))\n",
        "\n",
        "  while len(nullable) != prev_count:\n",
        "    prev_count = len(nullable)\n",
        "    nullable_symbols = [var for var, definition in grammar['vars'].items() \n",
        "                        if list(filter(all_nullable_symbols, definition)) != []]\n",
        "    nullable = nullable.union(set(nullable_symbols))\n",
        "\n",
        "  return nullable  "
      ],
      "execution_count": null,
      "outputs": []
    },
    {
      "cell_type": "markdown",
      "metadata": {
        "id": "itYH5RZjuHDJ"
      },
      "source": [
        "### **Definition**\n",
        "\n",
        "$ \\forall A \\in N: FIRST(A) = a \\in 𝛴 ∣ A ↠ aα$. \n",
        "\n",
        "If $A$ is the nullable nonterminal symbol, then the end of input $⊳$ is added to $FIRST(A)$.\n"
      ]
    },
    {
      "cell_type": "code",
      "metadata": {
        "id": "_bD359l1Zsjy"
      },
      "source": [
        "def first(grammar, nonterminal) -> set:\n",
        "  toks = set()\n",
        "  if nonterminal in nullable_symbols(grammar):\n",
        "    toks.add((0, ''))\n",
        "\n",
        "    \n",
        "  return toks"
      ],
      "execution_count": null,
      "outputs": []
    },
    {
      "cell_type": "markdown",
      "metadata": {
        "id": "eTHYoHvcZU_j"
      },
      "source": [
        "### **Definition**\n",
        "\n",
        "$ \\forall A \\in N: FOLLOW(A) = a \\in 𝛴 ∣ S↠𝛼Aa𝛽$. \n",
        "\n",
        "If $S↠𝛼A$, then the end of input $⊳$ is added to $FOLLOW(A)$."
      ]
    },
    {
      "cell_type": "code",
      "metadata": {
        "colab": {
          "base_uri": "https://localhost:8080/"
        },
        "id": "nopb8qtAJAbD",
        "outputId": "d712df30-2351-4fc9-c3b4-5206fe2f2c52"
      },
      "source": [
        "def test():\n",
        "  grammar = {\n",
        "      'toks': {(0, ''), (1, 'a'), (2, 'b'), (3, 'c')},\n",
        "      'vars': {\n",
        "          'S': [[(1, 'a'), 'M'],\n",
        "                [(1, 'a'), 'S'],\n",
        "                ['K']], \n",
        "          'K': [[(3, 'c')], \n",
        "                [(0, '')]], \n",
        "          'M': [['M', 'P']],\n",
        "          'P': [[(3, 'c')]]\n",
        "          },\n",
        "      'hvar': 'S'\n",
        "      }\n",
        "\n",
        "  grammar = remove_useless_symbols(grammar)\n",
        "  print(grammar)\n",
        "\n",
        "  print('Nullable symbols are ' + str(nullable_symbols(grammar)))\n",
        "\n",
        "test()  "
      ],
      "execution_count": null,
      "outputs": [
        {
          "output_type": "stream",
          "name": "stdout",
          "text": [
            "{'toks': {(1, 'a'), (3, 'c'), (0, ''), (2, 'b')}, 'vars': {'S': [[(1, 'a'), 'S'], ['K']], 'K': [[(3, 'c')], [(0, '')]]}, 'hvar': 'S'}\n",
            "Nullable symbols are {'S', 'K'}\n"
          ]
        }
      ]
    }
  ]
}