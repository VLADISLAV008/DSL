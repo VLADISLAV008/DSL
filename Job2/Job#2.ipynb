{
  "nbformat": 4,
  "nbformat_minor": 0,
  "metadata": {
    "colab": {
      "name": "Job#2.ipynb",
      "provenance": [],
      "collapsed_sections": [],
      "authorship_tag": "ABX9TyMaRNhdDUwTG1Tyn59UCysC"
    },
    "kernelspec": {
      "name": "python3",
      "display_name": "Python 3"
    },
    "language_info": {
      "name": "python"
    }
  },
  "cells": [
    {
      "cell_type": "markdown",
      "metadata": {
        "id": "KLZSHq7ln3qu"
      },
      "source": [
        "## Removing useless nonterminal symbols and identifying nullable (vanishing) symbols for context free grammar"
      ]
    },
    {
      "cell_type": "markdown",
      "metadata": {
        "id": "G4ei1ejrq16G"
      },
      "source": [
        "We are given a context free grammar $G(\\Sigma, N, S \\in N, P)$\n",
        "\n",
        "Our task is to remove all useless non-terminal symbols, and to identify nullable (vanishing) non-terminal symbols. "
      ]
    },
    {
      "cell_type": "markdown",
      "metadata": {
        "id": "Y1O9mZr0mfA-"
      },
      "source": [
        "To start with, we will use the following context free grammar structure:\n",
        "```\n",
        "{'toks': set(token), 'vars': dict(var: definition), 'hvar': var}\n",
        "token: (class, value)\n",
        "class: int\n",
        "value: str\n",
        "var: str                 # name of the non-terminal symbol\n",
        "definition: list(rule)\n",
        "rule: list(var | token)  # right part of the rule\n",
        "```"
      ]
    },
    {
      "cell_type": "markdown",
      "metadata": {
        "id": "itYH5RZjuHDJ"
      },
      "source": [
        "Let's implement a method that returns all productive (generating) symbols.\n",
        "\n",
        "A nonterminal symbol $X$ is called productive, if $\\forall \\alpha, \\beta \\in (\\Sigma \\cup N)^* \\space \\exists u \\in \\Sigma : (\\alpha X \\beta) \\twoheadrightarrow u$\n",
        "\n",
        "We will expand the set of productive symbols as it grows.\n",
        "\n",
        "$E_0 = \\emptyset$\n",
        "\n",
        "$E_1 = \\{X \\in N | \\space \\exists u \\in \\Sigma^* , (X \\to u) \\in P\\}$\n",
        "$E_2 = \\{X \\in N | \\space \\exists k \\in \\mathbb{N} \\space \\exists \\alpha_1, \\alpha_1, ..., \\alpha_k \\in (\\Sigma \\cup E_1), (X \\to \\alpha_1\\alpha_1...\\alpha_k) \\in P\\}$\n",
        "\n",
        "...\n",
        "\n",
        "$E_{n+1} = \\{X \\in N | \\space \\exists k \\in \\mathbb{N} \\space \\exists \\alpha_1, \\alpha_1, ..., \\alpha_k \\in (\\Sigma \\cup E_{n}), (X ]to \\alpha_1\\alpha_1...\\alpha_k) \\in P\\}$\n",
        "\n",
        "$E_n = E_{n+1} \\supset N$ - the desired set of productive symbols.\n",
        "$N - E_n$ - the desired set of unproductive symbols."
      ]
    },
    {
      "cell_type": "code",
      "metadata": {
        "id": "m66uvQO9kD9r"
      },
      "source": [
        "def productive_symbols(grammar) -> set:\n",
        "  productive = set()\n",
        "  prev_count = None\n",
        "\n",
        "  def absent_unproductive_symbols(rule: str) -> bool:\n",
        "    return all(map(lambda s: s in productive or s in grammar['toks'], rule))\n",
        "\n",
        "  while len(productive) != prev_count:\n",
        "    prev_count = len(productive)\n",
        "    productive_symbols = [var for var, definition in grammar['vars'].items() if list(filter(absent_unproductive_symbols, definition)) != []]\n",
        "    productive = productive.union(set(productive_symbols))\n",
        "\n",
        "  return productive  "
      ],
      "execution_count": 25,
      "outputs": []
    },
    {
      "cell_type": "markdown",
      "metadata": {
        "id": "lBqdS2KMOSkr"
      },
      "source": [
        "Let's implement a method that returns all reachable symbols.\n",
        "\n",
        "A nonterminal symbol $X$ is called reachable, if $\\exists \\alpha, \\beta \\in (\\Sigma \\cup N)^* \\space : S \\twoheadrightarrow (\\alpha X \\beta)$\n",
        "\n",
        "We will expand the set of reachable symbols as it grows.\n",
        "\n",
        "$E_0 = \\emptyset$\n",
        "\n",
        "$E_1 = \\{X \\in N | \\space \\exists \\alpha, \\beta \\in (\\Sigma \\cup N)^*: (S \\to \\alpha X \\beta) \\in P\\}$\n",
        "$E_2 = \\{X \\in N | \\exists M \\in E_1 \\space \\exists \\alpha, \\beta \\in (\\Sigma \\cup N)^*: (M \\to \\alpha X \\beta) \\in P\\}$\n",
        "\n",
        "...\n",
        "\n",
        "$E_{n+1} = \\{X \\in N | \\exists M \\in E_n \\space \\exists \\alpha, \\beta \\in (\\Sigma \\cup N)^*: (M \\to \\alpha X \\beta) \\in P\\}$\n",
        "\n",
        "$E_n = E_{n+1} \\supset N$ - the desired set of reachable symbols.\n",
        "$N - E_n$ - the desired set of unreachable symbols."
      ]
    },
    {
      "cell_type": "code",
      "metadata": {
        "id": "_vWlU5DEQKu8"
      },
      "source": [
        "def reachable_symbols(grammar) -> set:\n",
        "  reachable = {grammar['hvar']}\n",
        "  prev_count = None\n",
        "\n",
        "  while len(reachable) != prev_count:\n",
        "    prev_count = len(reachable)\n",
        "    for var, definition in grammar['vars'].items():\n",
        "      if var in reachable:\n",
        "        for rule in definition:\n",
        "          reachable = reachable.union(set(filter(lambda s: s not in grammar['toks'], rule)))\n",
        "\n",
        "  return reachable  "
      ],
      "execution_count": 26,
      "outputs": []
    },
    {
      "cell_type": "markdown",
      "metadata": {
        "id": "F2WFLob5SmiE"
      },
      "source": [
        "Let's implement a method that remove all useless non-terminal symbols. For this we remove all rules with unproductive or unreachable symbols."
      ]
    },
    {
      "cell_type": "code",
      "metadata": {
        "id": "lhKNG3evTQwY"
      },
      "source": [
        "from copy import deepcopy\n",
        "\n",
        "def remove_useless_symbols(grammar):\n",
        "  grammar_copy = deepcopy(grammar)\n",
        "\n",
        "  productive = productive_symbols(grammar)\n",
        "  grammar_copy['vars'] = {var: [rule for rule in definition if all(map(lambda s: s in productive or s in grammar['toks'], rule))] \n",
        "                          for var, definition in grammar_copy['vars'].items()}\n",
        "\n",
        "  reachable = reachable_symbols(grammar_copy)\n",
        "  grammar_copy['vars'] = {var: [rule for rule in definition if all(map(lambda s: s in reachable or s in grammar['toks'], rule))] \n",
        "                          for var, definition in grammar_copy['vars'].items() if var in reachable}\n",
        "\n",
        "  return grammar_copy"
      ],
      "execution_count": 27,
      "outputs": []
    },
    {
      "cell_type": "markdown",
      "metadata": {
        "id": "0-vbYQrqJFv8"
      },
      "source": [
        "Let's implement a method that returns all nullable (vanishing) symbols.\n",
        "\n",
        "A nonterminal symbol $X$ is called nullable, if $X \\twoheadrightarrow e$.\n",
        "\n",
        "We will expand the set of nullable symbols as it grows.\n",
        "\n",
        "$V_0 = \\emptyset$\n",
        "\n",
        "$V_1 = \\{X \\in N | \\space (X \\to e) \\in P\\}$\n",
        "$V_2 = \\{X \\in N | \\space \\exists k \\in \\mathbb{N} \\space \\exists B_1, B_2, ..., B_k \\in V_1, (X \\to B_1 B_2 ... B_k) \\in P\\}$\n",
        "\n",
        "...\n",
        "\n",
        "$V_{n+1} = \\{X \\in N | \\space \\exists k \\in \\mathbb{N} \\space \\exists B_1, B_2, ..., B_k \\in V_n, (X \\to B_1 B_2 ... B_k) \\in P\\}$\n",
        "\n",
        "$V_n = V_{n+1} \\supset N$ - the desired set of nullable symbols."
      ]
    },
    {
      "cell_type": "code",
      "metadata": {
        "id": "oUmzjy1bK8Hj"
      },
      "source": [
        "def nullable_symbols(grammar) -> set:\n",
        "  nullable = set()\n",
        "  prev_count = None\n",
        "\n",
        "  def all_nullable_symbols(rule: str) -> bool:\n",
        "    return all(map(lambda s: s in nullable or s == (0, ''), rule))\n",
        "\n",
        "  while len(nullable) != prev_count:\n",
        "    prev_count = len(nullable)\n",
        "    nullable_symbols = [var for var, definition in grammar['vars'].items() \n",
        "                        if list(filter(all_nullable_symbols, definition)) != []]\n",
        "    nullable = nullable.union(set(nullable_symbols))\n",
        "\n",
        "  return nullable  "
      ],
      "execution_count": 28,
      "outputs": []
    },
    {
      "cell_type": "code",
      "metadata": {
        "colab": {
          "base_uri": "https://localhost:8080/"
        },
        "id": "nopb8qtAJAbD",
        "outputId": "d712df30-2351-4fc9-c3b4-5206fe2f2c52"
      },
      "source": [
        "def test():\n",
        "  grammar = {\n",
        "      'toks': {(0, ''), (1, 'a'), (2, 'b'), (3, 'c')},\n",
        "      'vars': {\n",
        "          'S': [[(1, 'a'), 'M'],\n",
        "                [(1, 'a'), 'S'],\n",
        "                ['K']], \n",
        "          'K': [[(3, 'c')], \n",
        "                [(0, '')]], \n",
        "          'M': [['M', 'P']],\n",
        "          'P': [[(3, 'c')]]\n",
        "          },\n",
        "      'hvar': 'S'\n",
        "      }\n",
        "\n",
        "  grammar = remove_useless_symbols(grammar)\n",
        "  print(grammar)\n",
        "\n",
        "  print('Nullable symbols are ' + str(nullable_symbols(grammar)))\n",
        "\n",
        "test()  "
      ],
      "execution_count": 29,
      "outputs": [
        {
          "output_type": "stream",
          "name": "stdout",
          "text": [
            "{'toks': {(1, 'a'), (3, 'c'), (0, ''), (2, 'b')}, 'vars': {'S': [[(1, 'a'), 'S'], ['K']], 'K': [[(3, 'c')], [(0, '')]]}, 'hvar': 'S'}\n",
            "Nullable symbols are {'S', 'K'}\n"
          ]
        }
      ]
    }
  ]
}