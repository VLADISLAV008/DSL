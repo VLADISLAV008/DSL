{
  "nbformat": 4,
  "nbformat_minor": 0,
  "metadata": {
    "colab": {
      "name": "Job#1.ipynb",
      "provenance": [],
      "authorship_tag": "ABX9TyNvDtTzcsi0tIA2yeEh+/M0",
      "include_colab_link": true
    },
    "kernelspec": {
      "name": "python3",
      "display_name": "Python 3"
    },
    "language_info": {
      "name": "python"
    }
  },
  "cells": [
    {
      "cell_type": "markdown",
      "metadata": {
        "id": "view-in-github",
        "colab_type": "text"
      },
      "source": [
        "<a href=\"https://colab.research.google.com/github/VLADISLAV008/DSL/blob/main/Job1/Job%231.ipynb\" target=\"_parent\"><img src=\"https://colab.research.google.com/assets/colab-badge.svg\" alt=\"Open In Colab\"/></a>"
      ]
    },
    {
      "cell_type": "code",
      "metadata": {
        "id": "nAY9OxJ_mrqz"
      },
      "source": [
        "!git clone https://github.com/VLADISLAV008/DSL.git"
      ],
      "execution_count": null,
      "outputs": []
    },
    {
      "cell_type": "markdown",
      "metadata": {
        "id": "CakDupydR0xR"
      },
      "source": [
        "Variable `whitespaces` is a set of characters that are recognized as delimiters and are not tokens.\n",
        "\n",
        "Variable `text` refers to either a text or the name of a text file."
      ]
    },
    {
      "cell_type": "code",
      "metadata": {
        "id": "VFpTdN6DNqhZ"
      },
      "source": [
        "whitespaces = {'\\n', '\\t', ';'}\n",
        "text = '/content/DSL/Job1/text.txt'"
      ],
      "execution_count": 2,
      "outputs": []
    },
    {
      "cell_type": "markdown",
      "metadata": {
        "id": "SXfUpygQV2HX"
      },
      "source": [
        "The following function determines if a file with the given name exists.                        \n",
        "If it exists, then we read this file and return its contents. Otherwise, we return the passed string."
      ]
    },
    {
      "cell_type": "code",
      "metadata": {
        "id": "qsEncHpMT0TY"
      },
      "source": [
        "import os.path\n",
        "\n",
        "def retrieve_text(text: str) -> str:\n",
        "  \"\"\"\n",
        "  :param text: either a string or the name of a text file\n",
        "  :return: If a file with the given name exists, then the all contents of the file are returned as a string. \n",
        "           Otherwise, the input parameter text is returned.\n",
        "  \"\"\"\n",
        "  if os.path.isfile(text):\n",
        "    with open(text) as file:\n",
        "      return file.read()\n",
        "  else:\n",
        "    return text  "
      ],
      "execution_count": 3,
      "outputs": []
    },
    {
      "cell_type": "markdown",
      "metadata": {
        "id": "E8RD3C-YvVa9"
      },
      "source": [
        "The following function splits the input text into rows.\n",
        "\n",
        "First, we create two accumulating variables:\n",
        "\n",
        "*   `rows` - the resulting list of all whitespace-separated rows in the given text. The list is initially empty.\n",
        "*   `current_row` - a list of characters in the current row. Initially empty.\n",
        "\n",
        "Incoming text is processed character by character.\n",
        "Symbols will be added to the `current_row` until a whitespace is encountered. After meeting the whitespace, the list `current_row` is transformed into string, added to the resulting list of rows (`rows`) and initialized again with an empty list.\n"
      ]
    },
    {
      "cell_type": "code",
      "metadata": {
        "id": "FFA8PdH-wQjk"
      },
      "source": [
        "def split_text_into_rows(text: str, whitespaces: set) -> list:\n",
        "  \"\"\"\n",
        "  :param text: string to be split into rows\n",
        "  :param whitespaces: set of delimiters\n",
        "  :return: list of rows\n",
        "  \"\"\"\n",
        "  rows, current_row = [], []\n",
        "\n",
        "  for char in text:\n",
        "    if char in whitespaces:\n",
        "      if current_row:\n",
        "        rows.append(''.join(current_row))\n",
        "        current_row = []\n",
        "    else:\n",
        "      current_row.append(char)\n",
        "\n",
        "  if current_row:\n",
        "    rows.append(''.join(current_row))\n",
        "\n",
        "  return rows    "
      ],
      "execution_count": 6,
      "outputs": []
    },
    {
      "cell_type": "markdown",
      "metadata": {
        "id": "0qEBkKcx_bIZ"
      },
      "source": [
        "Here's an example of how breaking text from a file into rows works."
      ]
    },
    {
      "cell_type": "code",
      "metadata": {
        "colab": {
          "base_uri": "https://localhost:8080/"
        },
        "id": "7yseZ4iEdmWL",
        "outputId": "17e5dd6c-e47f-4b61-c391-3c04e7326405"
      },
      "source": [
        "def main():\n",
        "  program = retrieve_text(text)\n",
        "  print(program)\n",
        "\n",
        "  rows = split_text_into_rows(program, whitespaces)\n",
        "  print('rows =', rows)\n",
        "\n",
        "\n",
        "main()"
      ],
      "execution_count": 7,
      "outputs": [
        {
          "output_type": "stream",
          "name": "stdout",
          "text": [
            "#include <iostream>\n",
            "using namespace std;\n",
            "\n",
            "int main()\n",
            "{\n",
            "\tcout << \"Hello, world!\" << endl;return 0;\n",
            "}\n",
            "\n",
            "rows = ['#include <iostream>', 'using namespace std', 'int main()', '{', 'cout << \"Hello, world!\" << endl', 'return 0', '}']\n"
          ]
        }
      ]
    }
  ]
}