{
  "nbformat": 4,
  "nbformat_minor": 0,
  "metadata": {
    "colab": {
      "name": "Job#1.ipynb",
      "provenance": [],
      "authorship_tag": "ABX9TyP0R+FreRioLi+gG8yBdu9N",
      "include_colab_link": true
    },
    "kernelspec": {
      "name": "python3",
      "display_name": "Python 3"
    },
    "language_info": {
      "name": "python"
    }
  },
  "cells": [
    {
      "cell_type": "markdown",
      "metadata": {
        "id": "view-in-github",
        "colab_type": "text"
      },
      "source": [
        "<a href=\"https://colab.research.google.com/github/VLADISLAV008/DSL/blob/main/Job1/Job%231.ipynb\" target=\"_parent\"><img src=\"https://colab.research.google.com/assets/colab-badge.svg\" alt=\"Open In Colab\"/></a>"
      ]
    },
    {
      "cell_type": "code",
      "metadata": {
        "id": "nAY9OxJ_mrqz"
      },
      "source": [
        "!git clone https://github.com/VLADISLAV008/DSL.git"
      ],
      "execution_count": null,
      "outputs": []
    },
    {
      "cell_type": "markdown",
      "metadata": {
        "id": "CakDupydR0xR"
      },
      "source": [
        "Variable `whitespaces` is a set of characters that are recognized as delimiters and are not tokens.\n",
        "\n",
        "Variable `text` refers to either a string or the name of a text file."
      ]
    },
    {
      "cell_type": "code",
      "metadata": {
        "id": "VFpTdN6DNqhZ"
      },
      "source": [
        "whitespaces = {'\\n', '\\t', ';'}\n",
        "text = '/content/DSL/Job1/text.txt'"
      ],
      "execution_count": 42,
      "outputs": []
    },
    {
      "cell_type": "markdown",
      "metadata": {
        "id": "SXfUpygQV2HX"
      },
      "source": [
        "The following function determines if a file with the given name exists.                        \n",
        "If it exists, then we read this file and return its contents. Otherwise, we return the passed string."
      ]
    },
    {
      "cell_type": "code",
      "metadata": {
        "id": "qsEncHpMT0TY"
      },
      "source": [
        "import os.path\n",
        "\n",
        "def retrieve_text(text: str) -> str:\n",
        "  \"\"\"\n",
        "  :param text: either a string or the name of a text file\n",
        "  :return: If a file with the given name exists, then the all contents of the file are returned as a string. \n",
        "           Otherwise, the input parameter text is returned.\n",
        "  \"\"\"\n",
        "  if os.path.isfile(text):\n",
        "    with open(text) as file:\n",
        "      return file.read()\n",
        "  else:\n",
        "    return text  \n"
      ],
      "execution_count": 43,
      "outputs": []
    },
    {
      "cell_type": "markdown",
      "metadata": {
        "id": "E8RD3C-YvVa9"
      },
      "source": [
        "The following function splits the input text into lines.\n",
        "\n",
        "Incoming text is processed character by character. If the character under consideration is a whitespace, then if the current line is not empty, we add it to the resulting list. Otherwise, add the current character to the current line.\n"
      ]
    },
    {
      "cell_type": "code",
      "metadata": {
        "id": "FFA8PdH-wQjk"
      },
      "source": [
        "def split_text_into_lines(text: str, whitespaces: set) -> list:\n",
        "  \"\"\"\n",
        "  :param text: string to be split into lines\n",
        "  :param whitespaces: set of delimiters\n",
        "  :return: list of lines\n",
        "  \"\"\"\n",
        "  lines, current_line = [], []\n",
        "\n",
        "  for char in text:\n",
        "    if char in whitespaces:\n",
        "      if current_line:\n",
        "        lines.append(''.join(current_line))\n",
        "        current_line = []\n",
        "    else:\n",
        "      current_line.append(char)\n",
        "\n",
        "  if current_line:\n",
        "    lines.append(''.join(current_line))\n",
        "\n",
        "  return lines    "
      ],
      "execution_count": 54,
      "outputs": []
    },
    {
      "cell_type": "markdown",
      "metadata": {
        "id": "0qEBkKcx_bIZ"
      },
      "source": [
        "Here's an example of how breaking text from a file into lines works."
      ]
    },
    {
      "cell_type": "code",
      "metadata": {
        "colab": {
          "base_uri": "https://localhost:8080/"
        },
        "id": "7yseZ4iEdmWL",
        "outputId": "2cee681c-4d4e-4d1b-8529-f642fa3a99f8"
      },
      "source": [
        "def main():\n",
        "  program = retrieve_text(text)\n",
        "  print(program)\n",
        "\n",
        "  rows = split_text_into_lines(program, whitespaces)\n",
        "  print('rows =', rows)\n",
        "\n",
        "\n",
        "main()"
      ],
      "execution_count": 55,
      "outputs": [
        {
          "output_type": "stream",
          "name": "stdout",
          "text": [
            "#include <iostream>\n",
            "using namespace std;\n",
            "\n",
            "int main()\n",
            "{\n",
            "\tcout << \"Hello, world!\" << endl;return 0;\n",
            "}\n",
            "\n",
            "rows = ['#include <iostream>', 'using namespace std', 'int main()', '{', 'cout << \"Hello, world!\" << endl', 'return 0', '}']\n"
          ]
        }
      ]
    }
  ]
}